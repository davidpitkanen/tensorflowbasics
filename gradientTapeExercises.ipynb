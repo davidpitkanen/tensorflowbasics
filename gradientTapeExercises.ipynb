{
 "cells": [
  {
   "cell_type": "raw",
   "id": "7b5bb94f",
   "metadata": {},
   "source": [
    "# just going to rewrite what was in the hello world program but this time use the functional api."
   ]
  },
  {
   "cell_type": "code",
   "execution_count": 4,
   "id": "1c538d99",
   "metadata": {},
   "outputs": [],
   "source": [
    "import tensorflow as tf\n",
    "import numpy as np\n",
    "import random\n",
    "import math\n",
    "\n",
    "random.seed(10)"
   ]
  },
  {
   "cell_type": "code",
   "execution_count": 23,
   "id": "137eb8c5-80a2-463b-880e-5e8843a5cac6",
   "metadata": {},
   "outputs": [],
   "source": [
    "x_values = np.array([-1.0, 0.0, 1.0, 2.0, 3.0])\n",
    "y_values = np.array([-3.0, -1.0, 0.0, 1.0, 2.0])"
   ]
  },
  {
   "cell_type": "code",
   "execution_count": 34,
   "id": "164c6411-7f95-4763-b8c6-b8f5b560925d",
   "metadata": {},
   "outputs": [
    {
     "name": "stdout",
     "output_type": "stream",
     "text": [
      "w:<tf.Variable 'Variable:0' shape=() dtype=float32, numpy=0.053163536>, b:<tf.Variable 'Variable:0' shape=() dtype=float32, numpy=0.5738677>\n"
     ]
    }
   ],
   "source": [
    "w = tf.Variable(random.random(), trainable=True)\n",
    "b = tf.Variable(random.random(), trainable=True)\n",
    "print(f\"w:{w}, b:{b}\")"
   ]
  },
  {
   "cell_type": "code",
   "execution_count": 26,
   "id": "00168b62-63e7-460f-9c9d-57d26cc635b6",
   "metadata": {},
   "outputs": [],
   "source": [
    "def mean_squared_loss(y_pred, y_data):\n",
    "    return tf.reduce_mean(tf.square(y_pred - y_data))"
   ]
  },
  {
   "cell_type": "code",
   "execution_count": 29,
   "id": "0f9e5322-69c7-45bd-83f5-6cd4f21fcf12",
   "metadata": {},
   "outputs": [],
   "source": [
    "with tf.GradientTape(persistent=True) as tape:\n",
    "    y_pred = w * x_values + b\n",
    "    loss = mean_squared_loss(y_pred, y_values)"
   ]
  },
  {
   "cell_type": "code",
   "execution_count": 30,
   "id": "cfe801fc-71fc-4746-9eb1-bb8a482502c9",
   "metadata": {},
   "outputs": [],
   "source": [
    "w_gradient = tape.gradient(loss, w)\n",
    "b_gradient = tape.gradient(loss, b)"
   ]
  },
  {
   "cell_type": "code",
   "execution_count": 31,
   "id": "a437a97e-e695-4445-925d-260e983dc247",
   "metadata": {},
   "outputs": [
    {
     "name": "stdout",
     "output_type": "stream",
     "text": [
      "tf.Tensor(2.5484993, shape=(), dtype=float32)\n"
     ]
    }
   ],
   "source": [
    "print(w_gradient)"
   ]
  },
  {
   "cell_type": "code",
   "execution_count": null,
   "id": "96ab8998-95a1-4db3-9028-35cf66bc589c",
   "metadata": {},
   "outputs": [],
   "source": []
  }
 ],
 "metadata": {
  "kernelspec": {
   "display_name": "Python 3 (ipykernel)",
   "language": "python",
   "name": "python3"
  },
  "language_info": {
   "codemirror_mode": {
    "name": "ipython",
    "version": 3
   },
   "file_extension": ".py",
   "mimetype": "text/x-python",
   "name": "python",
   "nbconvert_exporter": "python",
   "pygments_lexer": "ipython3",
   "version": "3.8.13"
  }
 },
 "nbformat": 4,
 "nbformat_minor": 5
}
