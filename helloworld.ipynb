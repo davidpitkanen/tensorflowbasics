{
 "cells": [
  {
   "cell_type": "markdown",
   "id": "00c53bc7-bffb-426b-9e55-cae47ba6a202",
   "metadata": {},
   "source": [
    "This is the hello world program for tensorflow.  This basically just involves creating data that follows a line and then using a neural network model to fit this line.  For practise I implement the line using the functional API, the sequential api and using gradient tape."
   ]
  },
  {
   "cell_type": "markdown",
   "id": "da4e279e-17c6-4d1b-9dad-294797300fbd",
   "metadata": {},
   "source": [
    "Step 1 create the data"
   ]
  },
  {
   "cell_type": "code",
   "execution_count": 11,
   "id": "203f6f16-9eff-4cd3-9058-29138a70cc11",
   "metadata": {},
   "outputs": [],
   "source": [
    "import tensorflow as tf\n",
    "import numpy as np\n",
    "import random\n",
    "\n",
    "random.seed(10)"
   ]
  },
  {
   "cell_type": "code",
   "execution_count": 12,
   "id": "c4f2e421-3eb6-410c-a8d0-533da68e3076",
   "metadata": {},
   "outputs": [],
   "source": [
    "true_m = 2.0\n",
    "true_b = -4.0"
   ]
  },
  {
   "cell_type": "code",
   "execution_count": 58,
   "id": "9df6092d-5dde-43bc-b16b-114d92b36b76",
   "metadata": {},
   "outputs": [],
   "source": [
    "NUM_EXAMPLES = 1000 \n",
    "NOISE_FACTOR = 20\n",
    "xs = [random.uniform(-50, 50) for i in range(300)]\n",
    "\n",
    "\n",
    "ys_pred = [true_m * x + true_b + (random.random() -0.5) *NOISE_FACTOR for x in xs]\n",
    "xdata = np.array(xs)\n",
    "ydata_pred = np.array(ys_pred)"
   ]
  },
  {
   "cell_type": "code",
   "execution_count": 59,
   "id": "8dc2600a-a1b3-494d-8623-bbb1e5fce6c0",
   "metadata": {},
   "outputs": [],
   "source": [
    "# plotting the data\n",
    "import matplotlib.pyplot as plt\n",
    "import numpy as np"
   ]
  },
  {
   "cell_type": "code",
   "execution_count": 60,
   "id": "d6048838-31d2-4c7b-b8ec-66a434a3a131",
   "metadata": {},
   "outputs": [
    {
     "data": {
      "image/png": "[encoded data removed]",
      "text/plain": [
       "<Figure size 432x288 with 1 Axes>"
      ]
     },
     "metadata": {
      "needs_background": "light"
     },
     "output_type": "display_data"
    }
   ],
   "source": [
    "# True data expectation\n",
    "t = np.arange(-50.0, 50.0, 1)\n",
    "s = true_b + true_m * t\n",
    "\n",
    "fig, ax = plt.subplots()\n",
    "ax.scatter(xs, ydata_pred, c='tab:blue')\n",
    "ax.scatter(t, s, c='tab:green')\n",
    "\n",
    "ax.set(xlabel='x', ylabel='y')\n",
    "\n",
    "ax.grid()\n",
    "plt.show()\n"
   ]
  },
  {
   "cell_type": "code",
   "execution_count": 68,
   "id": "ca9596b3-4e64-4549-873f-091417f57d35",
   "metadata": {},
   "outputs": [
    {
     "name": "stdout",
     "output_type": "stream",
     "text": [
      "Epoch 1/5\n",
      "10/10 [==============================] - 0s 900us/step - loss: 3172.8552 - accuracy: 0.0000e+00\n",
      "Epoch 2/5\n",
      "10/10 [==============================] - 0s 800us/step - loss: 3024.1555 - accuracy: 0.0000e+00\n",
      "Epoch 3/5\n",
      "10/10 [==============================] - 0s 700us/step - loss: 2888.9805 - accuracy: 0.0000e+00\n",
      "Epoch 4/5\n",
      "10/10 [==============================] - 0s 700us/step - loss: 2760.2842 - accuracy: 0.0000e+00\n",
      "Epoch 5/5\n",
      "10/10 [==============================] - 0s 700us/step - loss: 2618.1396 - accuracy: 0.0000e+00\n"
     ]
    },
    {
     "data": {
      "text/plain": [
       "<tensorflow.python.keras.callbacks.History at 0x23155292700>"
      ]
     },
     "execution_count": 68,
     "metadata": {},
     "output_type": "execute_result"
    }
   ],
   "source": [
    "# define sequential model\n",
    "model = tf.keras.models.Sequential([\n",
    "  tf.keras.layers.Flatten(input_shape=(1,)),\n",
    "  tf.keras.layers.Dense(128, activation='relu'),\n",
    "  tf.keras.layers.Dropout(0.2),\n",
    "  tf.keras.layers.Dense(1, activation='relu')\n",
    "])\n",
    "\n",
    "model.compile(optimizer='adam',\n",
    "              loss=tf.keras.losses.MeanSquaredError(),\n",
    "              metrics=['accuracy'])\n",
    "\n",
    "model.fit(xdata, ydata_pred, epochs=5)\n"
   ]
  },
  {
   "cell_type": "code",
   "execution_count": 69,
   "id": "2805119a-be28-4843-b0c3-39ed88f57254",
   "metadata": {},
   "outputs": [],
   "source": [
    "y_calc = model.predict(t)"
   ]
  },
  {
   "cell_type": "code",
   "execution_count": 70,
   "id": "c6c655d3-10ac-45d3-b4de-20571c0dcb5e",
   "metadata": {},
   "outputs": [
    {
     "data": {
      "image/png": "[encoded data removed]",
      "text/plain": [
       "<Figure size 432x288 with 1 Axes>"
      ]
     },
     "metadata": {
      "needs_background": "light"
     },
     "output_type": "display_data"
    }
   ],
   "source": [
    "t = np.arange(-50.0, 50.0, 1)\n",
    "s = true_b + true_m * t\n",
    "y_calc = model.predict(t)\n",
    "\n",
    "fig, ax = plt.subplots()\n",
    "ax.scatter(xs, ydata_pred, c='tab:blue')\n",
    "ax.scatter(t, s, c='tab:green')\n",
    "ax.scatter(t, y_calc, c='tab:orange')\n",
    "\n",
    "ax.set(xlabel='x', ylabel='y')\n",
    "\n",
    "ax.grid()\n",
    "plt.show()\n"
   ]
  },
  {
   "cell_type": "code",
   "execution_count": 67,
   "id": "15952b67-77f3-4dbf-b9ae-7aca48a30388",
   "metadata": {},
   "outputs": [
    {
     "name": "stdout",
     "output_type": "stream",
     "text": [
      "[[ 0.          0.          0.          0.          0.          0.\n",
      "   0.          0.          0.          0.        ]\n",
      " [ 0.          0.          0.          0.          0.          0.\n",
      "   0.          0.          0.          0.        ]\n",
      " [ 0.          0.          0.          0.          0.          0.\n",
      "   0.          0.          0.          0.        ]\n",
      " [ 0.          0.          0.          0.          0.          0.\n",
      "   0.          0.          0.          0.        ]\n",
      " [ 0.          0.          0.          0.          0.          0.\n",
      "   0.          0.          0.          0.        ]\n",
      " [ 0.          0.          0.          0.          0.          0.\n",
      "   0.          0.          0.          0.        ]\n",
      " [ 0.          0.          0.          0.          0.          0.\n",
      "   0.          0.          0.          0.        ]\n",
      " [ 0.          0.          0.          0.          0.          0.\n",
      "   0.          0.          0.          0.        ]\n",
      " [ 0.          0.          0.          0.          0.          0.\n",
      "   0.          0.          0.          0.        ]\n",
      " [ 0.          0.          0.          0.          0.          0.\n",
      "   0.          0.          0.          0.        ]\n",
      " [ 0.          0.          0.          0.          0.          0.\n",
      "   0.          0.          0.          0.        ]\n",
      " [ 0.          0.          0.          0.          0.          0.\n",
      "   0.          0.          0.          0.        ]\n",
      " [ 0.          0.          0.          0.          0.          0.\n",
      "   0.          0.          0.          0.        ]\n",
      " [ 0.          0.          0.          0.          0.          0.\n",
      "   0.          0.          0.          0.        ]\n",
      " [ 0.          0.          0.          0.          0.          0.\n",
      "   0.          0.          0.          0.        ]\n",
      " [ 0.          0.          0.          0.          0.          0.\n",
      "   0.          0.          0.          0.        ]\n",
      " [ 0.          0.          0.          0.          0.          0.\n",
      "   0.          0.          0.          0.        ]\n",
      " [ 0.          0.          0.          0.          0.          0.\n",
      "   0.          0.          0.          0.        ]\n",
      " [ 0.          0.          0.          0.          0.          0.\n",
      "   0.          0.          0.          0.        ]\n",
      " [ 0.          0.          0.          0.          0.          0.\n",
      "   0.          0.          0.          0.        ]\n",
      " [ 0.          0.          0.          0.          0.          0.\n",
      "   0.          0.          0.          0.        ]\n",
      " [ 0.          0.          0.          0.          0.          0.\n",
      "   0.          0.          0.          0.        ]\n",
      " [ 0.          0.          0.          0.          0.          0.\n",
      "   0.          0.          0.          0.        ]\n",
      " [ 0.          0.          0.          0.          0.          0.\n",
      "   0.          0.          0.          0.        ]\n",
      " [ 0.          0.          0.          0.          0.          0.\n",
      "   0.          0.          0.          0.        ]\n",
      " [ 0.          0.          0.          0.          0.          0.\n",
      "   0.          0.          0.          0.        ]\n",
      " [ 0.          0.          0.          0.          0.          0.\n",
      "   0.          0.          0.          0.        ]\n",
      " [ 0.          0.          0.          0.          0.          0.\n",
      "   0.          0.          0.          0.        ]\n",
      " [ 0.          0.          0.          0.          0.          0.\n",
      "   0.          0.          0.          0.        ]\n",
      " [ 0.          0.          0.          0.          0.          0.\n",
      "   0.          0.          0.          0.        ]\n",
      " [ 0.          0.          0.          0.          0.          0.\n",
      "   0.          0.          0.          0.        ]\n",
      " [ 0.          0.          0.          0.          0.          0.\n",
      "   0.          0.          0.          0.        ]\n",
      " [ 0.          0.          0.          0.          0.          0.\n",
      "   0.          0.          0.          0.        ]\n",
      " [ 0.          0.          0.          0.          0.          0.\n",
      "   0.          0.          0.          0.        ]\n",
      " [ 0.          0.          0.          0.          0.          0.\n",
      "   0.          0.          0.          0.        ]\n",
      " [ 0.          0.          0.          0.          0.          0.\n",
      "   0.          0.          0.          0.        ]\n",
      " [ 0.          0.          0.          0.          0.          0.\n",
      "   0.          0.          0.          0.        ]\n",
      " [ 0.          0.          0.          0.          0.          0.\n",
      "   0.          0.          0.          0.        ]\n",
      " [ 0.          0.          0.          0.          0.          0.\n",
      "   0.          0.          0.          0.        ]\n",
      " [ 0.          0.          0.          0.          0.          0.\n",
      "   0.          0.          0.          0.        ]\n",
      " [ 0.          0.          0.          0.          0.          0.\n",
      "   0.          0.          0.          0.        ]\n",
      " [ 0.          0.          0.          0.          0.          0.\n",
      "   0.          0.          0.          0.        ]\n",
      " [ 0.          0.          0.          0.          0.          0.\n",
      "   0.          0.          0.          0.        ]\n",
      " [ 0.          0.          0.          0.          0.          0.\n",
      "   0.          0.          0.          0.        ]\n",
      " [ 0.          0.          0.          0.          0.          0.\n",
      "   0.          0.          0.          0.        ]\n",
      " [ 0.          0.          0.          0.          0.          0.\n",
      "   0.          0.          0.          0.        ]\n",
      " [ 0.          0.          0.          0.          0.          0.\n",
      "   0.          0.          0.          0.        ]\n",
      " [ 0.          0.          0.          0.          0.          0.\n",
      "   0.          0.          0.          0.        ]\n",
      " [ 0.          0.          0.          0.          0.          0.\n",
      "   0.          0.          0.          0.        ]\n",
      " [ 0.          0.          0.          0.          0.          0.\n",
      "   0.          0.          0.          0.        ]\n",
      " [ 0.16912483  0.20019513  0.          0.14827853  0.          0.11508995\n",
      "   0.22338052  0.08531442  0.12745783  0.22920986]\n",
      " [ 0.89407754  0.7300536   0.          0.6618101   0.463454    0.54079515\n",
      "   0.68484324  0.67033607  0.6296332   0.90407944]\n",
      " [ 1.5953379   1.2498503   0.          1.1274147   0.8430022   0.9005094\n",
      "   1.1357062   1.1786604   1.0782151   1.5250583 ]\n",
      " [ 2.2965994   1.7696468   0.          1.5930197   1.2225499   1.2602235\n",
      "   1.5865687   1.6869849   1.5267973   2.1460366 ]\n",
      " [ 2.99786     2.2894433   0.          2.058624    1.6020979   1.619938\n",
      "   2.0374315   2.1953094   1.9753792   2.7670157 ]\n",
      " [ 3.6991198   2.80924     0.          2.5242293   1.9816456   1.9796522\n",
      "   2.4882944   2.7036343   2.4239602   3.3879943 ]\n",
      " [ 4.400381    3.3290372   0.          2.9898338   2.3611932   2.3393662\n",
      "   2.9391575   3.2119586   2.8725424   4.0089726 ]\n",
      " [ 5.101641    3.8488336   0.          3.455439    2.740742    2.6990807\n",
      "   3.3900204   3.7202823   3.3211253   4.629953  ]\n",
      " [ 5.802902    4.36863     0.          3.9210436   3.1202905   3.058795\n",
      "   3.8408828   4.228607    3.7697072   5.2509313 ]\n",
      " [ 6.5041633   4.888426    0.          4.3866487   3.4998379   3.418509\n",
      "   4.291746    4.736931    4.2182884   5.871908  ]\n",
      " [ 7.205425    5.4082217   0.          4.8522525   3.8793852   3.778223\n",
      "   4.7426085   5.2452564   4.6668715   6.492889  ]\n",
      " [ 7.9066844   5.9280195   0.          5.3178563   4.2589326   4.1379375\n",
      "   5.193471    5.753579    5.115453    7.113867  ]\n",
      " [ 8.607946    6.4478164   0.          5.7834625   4.6384816   4.4976525\n",
      "   5.6443343   6.261904    5.5640354   7.734846  ]\n",
      " [ 9.309206    6.9676123   0.          6.2490673   5.01803     4.8573666\n",
      "   6.095197    6.7702293   6.012617    8.355824  ]\n",
      " [10.0104685   7.487409    0.          6.714672    5.3975773   5.217081\n",
      "   6.546059    7.278553    6.4612      8.976805  ]\n",
      " [10.711729    8.007205    0.          7.180277    5.777125    5.576795\n",
      "   6.9969225   7.7868786   6.9097824   9.597782  ]\n",
      " [11.412989    8.527002    0.          7.6458807   6.1566753   5.93651\n",
      "   7.447784    8.295202    7.358363   10.218761  ]\n",
      " [12.114249    9.046799    0.          8.111486    6.536221    6.296222\n",
      "   7.898648    8.803526    7.806947   10.839743  ]\n",
      " [12.815507    9.566595    0.          8.577091    6.91577     6.6559377\n",
      "   8.34951     9.311851    8.2555275  11.460719  ]\n",
      " [13.516769   10.086394    0.          9.042697    7.2953176   7.0156527\n",
      "   8.800374    9.820174    8.70411    12.0816965 ]\n",
      " [14.218029   10.606191    0.          9.508301    7.6748657   7.375366\n",
      "   9.251235   10.328499    9.152692   12.702678  ]\n",
      " [14.91929    11.125986    0.          9.9739065   8.054413    7.7350793\n",
      "   9.702099   10.836827    9.601272   13.323654  ]\n",
      " [15.620549   11.64578     0.         10.43951     8.433961    8.094796\n",
      "  10.152962   11.345152   10.049857   13.9446335 ]\n",
      " [16.321812   12.16558     0.         10.905114    8.813511    8.454509\n",
      "  10.603825   11.853468   10.49844    14.565613  ]\n",
      " [17.023071   12.685378    0.         11.370721    9.193058    8.814223\n",
      "  11.054687   12.361798   10.94702    15.186592  ]\n",
      " [17.724333   13.205169    0.         11.836326    9.572606    9.173938\n",
      "  11.505552   12.87012    11.3956     15.807572  ]\n",
      " [18.425596   13.724969    0.         12.301929    9.952154    9.533652\n",
      "  11.956413   13.378446   11.844184   16.428549  ]\n",
      " [19.12686    14.244763    0.         12.767533   10.331701    9.893366\n",
      "  12.407275   13.886771   12.2927685  17.049526  ]\n",
      " [19.828112   14.764563    0.         13.233142   10.711247   10.253078\n",
      "  12.858138   14.395093   12.741345   17.670507  ]\n",
      " [20.52938    15.284359    0.         13.698744   11.090796   10.612795\n",
      "  13.309001   14.903421   13.189929   18.291485  ]\n",
      " [21.230637   15.804157    0.         14.164349   11.470344   10.972508\n",
      "  13.759861   15.411745   13.638509   18.912468  ]\n",
      " [21.93189    16.323952    0.         14.6299515  11.849892   11.332222\n",
      "  14.210726   15.920066   14.087089   19.533443  ]\n",
      " [22.633158   16.84375     0.         15.095561   12.22944    11.691938\n",
      "  14.66159    16.42839    14.535675   20.15442   ]\n",
      " [23.334417   17.363546    0.         15.561161   12.60899    12.051654\n",
      "  15.112451   16.936712   14.984257   20.7754    ]\n",
      " [24.03568    17.883339    0.         16.02677    12.988537   12.4113655\n",
      "  15.5633135  17.44504    15.432839   21.396378  ]\n",
      " [24.736942   18.403141    0.         16.492373   13.368086   12.771078\n",
      "  16.01418    17.953367   15.881419   22.01736   ]\n",
      " [25.438202   18.922934    0.         16.957975   13.747633   13.1307955\n",
      "  16.46504    18.46169    16.330008   22.638338  ]\n",
      " [26.139465   19.442734    0.         17.423582   14.127182   13.490508\n",
      "  16.915907   18.970015   16.778584   23.259317  ]\n",
      " [26.840727   19.96253     0.         17.889185   14.506732   13.850225\n",
      "  17.366766   19.478336   17.227167   23.880293  ]\n",
      " [27.54198    20.482327    0.         18.35479    14.886275   14.209937\n",
      "  17.817629   19.98666    17.675747   24.50128   ]\n",
      " [28.243248   21.002117    0.         18.820398   15.265825   14.56965\n",
      "  18.268492   20.494987   18.124332   25.12225   ]\n",
      " [28.944506   21.521917    0.         19.286      15.645375   14.929366\n",
      "  18.719353   21.00331    18.572912   25.743235  ]\n",
      " [29.645761   22.041716    0.         19.751606   16.024921   15.289081\n",
      "  19.17022    21.51163    19.021496   26.364216  ]\n",
      " [30.34703    22.561506    0.         20.21721    16.404469   15.648793\n",
      "  19.621082   22.01996    19.470074   26.985186  ]\n",
      " [31.04829    23.08131     0.         20.682814   16.784018   16.00851\n",
      "  20.071943   22.528284   19.918657   27.606165  ]\n",
      " [31.74955    23.601105    0.         21.148418   17.163563   16.368223\n",
      "  20.522806   23.036613   20.367239   28.227148  ]\n",
      " [32.450806   24.120903    0.         21.614023   17.543114   16.727936\n",
      "  20.973667   23.544933   20.815826   28.848127  ]\n",
      " [33.152073   24.640697    0.         22.079634   17.92266    17.08765\n",
      "  21.424534   24.053259   21.264404   29.469103  ]\n",
      " [33.853336   25.160488    0.         22.54523    18.30221    17.447367\n",
      "  21.875391   24.561579   21.712992   30.09008   ]\n",
      " [34.55459    25.680288    0.         23.010841   18.681755   17.80708\n",
      "  22.326258   25.069906   22.161564   30.711058  ]]\n"
     ]
    }
   ],
   "source": [
    "print(y_calc)"
   ]
  },
  {
   "cell_type": "code",
   "execution_count": null,
   "id": "44600744-8990-45e8-95a1-de1c45da5089",
   "metadata": {},
   "outputs": [],
   "source": []
  }
 ],
 "metadata": {
  "kernelspec": {
   "display_name": "Python 3 (ipykernel)",
   "language": "python",
   "name": "python3"
  },
  "language_info": {
   "codemirror_mode": {
    "name": "ipython",
    "version": 3
   },
   "file_extension": ".py",
   "mimetype": "text/x-python",
   "name": "python",
   "nbconvert_exporter": "python",
   "pygments_lexer": "ipython3",
   "version": "3.8.13"
  }
 },
 "nbformat": 4,
 "nbformat_minor": 5
}
