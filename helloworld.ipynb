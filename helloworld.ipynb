{
 "cells": [
  {
   "cell_type": "markdown",
   "id": "00c53bc7-bffb-426b-9e55-cae47ba6a202",
   "metadata": {},
   "source": [
    "This is the hello world program for tensorflow.  This basically just involves creating data that follows a line and then using a neural network model to fit this line.  For practise I implement the line using the functional API, the sequential api and using gradient tape."
   ]
  },
  {
   "cell_type": "markdown",
   "id": "da4e279e-17c6-4d1b-9dad-294797300fbd",
   "metadata": {},
   "source": [
    "Step 1 create the data"
   ]
  },
  {
   "cell_type": "code",
   "execution_count": 8,
   "id": "203f6f16-9eff-4cd3-9058-29138a70cc11",
   "metadata": {},
   "outputs": [],
   "source": [
    "import tensorflow as tf\n",
    "import numpy as np\n",
    "import random\n",
    "import math\n",
    "random.seed(10)"
   ]
  },
  {
   "cell_type": "code",
   "execution_count": 9,
   "id": "c4f2e421-3eb6-410c-a8d0-533da68e3076",
   "metadata": {},
   "outputs": [],
   "source": [
    "true_m = 2.0\n",
    "true_b = -4.0"
   ]
  },
  {
   "cell_type": "code",
   "execution_count": 41,
   "id": "9df6092d-5dde-43bc-b16b-114d92b36b76",
   "metadata": {},
   "outputs": [],
   "source": [
    "NUM_EXAMPLES = 1000 \n",
    "NOISE_FACTOR = 20\n",
    "xs = [random.uniform(-math.pi, math.pi) for i in range(300)]\n",
    "\n",
    "\n",
    "ys_pred = [abs(math.sin(true_m * x + true_b)) for x in xs]\n",
    "xdata = np.array(xs)\n",
    "ydata_pred = np.array(ys_pred)"
   ]
  },
  {
   "cell_type": "code",
   "execution_count": 42,
   "id": "8dc2600a-a1b3-494d-8623-bbb1e5fce6c0",
   "metadata": {},
   "outputs": [],
   "source": [
    "# plotting the data\n",
    "import matplotlib.pyplot as plt\n",
    "import numpy as np"
   ]
  },
  {
   "cell_type": "code",
   "execution_count": 44,
   "id": "d6048838-31d2-4c7b-b8ec-66a434a3a131",
   "metadata": {},
   "outputs": [
    {
     "data": {
      "image/png": "[encoded data removed]",
      "text/plain": [
       "<Figure size 432x288 with 1 Axes>"
      ]
     },
     "metadata": {
      "needs_background": "light"
     },
     "output_type": "display_data"
    }
   ],
   "source": [
    "# True data expectation\n",
    "\n",
    "fig, ax = plt.subplots()\n",
    "ax.scatter(xs, ydata_pred, c='tab:blue')\n",
    "\n",
    "ax.set(xlabel='x', ylabel='y')\n",
    "\n",
    "ax.grid()\n",
    "plt.show()\n"
   ]
  },
  {
   "cell_type": "code",
   "execution_count": 77,
   "id": "ca9596b3-4e64-4549-873f-091417f57d35",
   "metadata": {},
   "outputs": [
    {
     "name": "stdout",
     "output_type": "stream",
     "text": [
      "Epoch 1/10\n",
      "10/10 [==============================] - 0s 1ms/step - loss: 0.9031 - accuracy: 0.0000e+00\n",
      "Epoch 2/10\n",
      "10/10 [==============================] - 0s 700us/step - loss: 0.4027 - accuracy: 0.0000e+00\n",
      "Epoch 3/10\n",
      "10/10 [==============================] - 0s 707us/step - loss: 0.1958 - accuracy: 0.0000e+00\n",
      "Epoch 4/10\n",
      "10/10 [==============================] - 0s 700us/step - loss: 0.1431 - accuracy: 0.0000e+00\n",
      "Epoch 5/10\n",
      "10/10 [==============================] - 0s 800us/step - loss: 0.1415 - accuracy: 0.0000e+00\n",
      "Epoch 6/10\n",
      "10/10 [==============================] - 0s 900us/step - loss: 0.1313 - accuracy: 0.0000e+00\n",
      "Epoch 7/10\n",
      "10/10 [==============================] - 0s 800us/step - loss: 0.1292 - accuracy: 0.0000e+00\n",
      "Epoch 8/10\n",
      "10/10 [==============================] - 0s 900us/step - loss: 0.1257 - accuracy: 0.0000e+00\n",
      "Epoch 9/10\n",
      "10/10 [==============================] - 0s 800us/step - loss: 0.1375 - accuracy: 0.0000e+00\n",
      "Epoch 10/10\n",
      "10/10 [==============================] - 0s 800us/step - loss: 0.1292 - accuracy: 0.0000e+00\n",
      "Model: \"sequential_18\"\n",
      "_________________________________________________________________\n",
      "Layer (type)                 Output Shape              Param #   \n",
      "=================================================================\n",
      "dense_118 (Dense)            (None, 32)                64        \n",
      "_________________________________________________________________\n",
      "dense_119 (Dense)            (None, 64)                2112      \n",
      "_________________________________________________________________\n",
      "dropout_55 (Dropout)         (None, 64)                0         \n",
      "_________________________________________________________________\n",
      "dense_120 (Dense)            (None, 32)                2080      \n",
      "_________________________________________________________________\n",
      "dense_121 (Dense)            (None, 1)                 33        \n",
      "=================================================================\n",
      "Total params: 4,289\n",
      "Trainable params: 4,289\n",
      "Non-trainable params: 0\n",
      "_________________________________________________________________\n"
     ]
    }
   ],
   "source": [
    "# define sequential model\n",
    "sequential_model = tf.keras.models.Sequential([\n",
    "  tf.keras.layers.Dense(32),\n",
    "  tf.keras.layers.Dense(64),\n",
    "  tf.keras.layers.Dropout(0.1),\n",
    "  tf.keras.layers.Dense(32),\n",
    "  tf.keras.layers.Dense(1)\n",
    "])\n",
    "\n",
    "sequential_model.compile(optimizer='adam',\n",
    "              loss=tf.keras.losses.MeanSquaredError(),\n",
    "              metrics=['accuracy'])\n",
    "\n",
    "sequential_model.fit(xdata, ydata_pred, epochs=10)\n",
    "sequential_model.summary()"
   ]
  },
  {
   "cell_type": "code",
   "execution_count": 79,
   "id": "953a5a34-16fd-4166-acee-af75b306511f",
   "metadata": {},
   "outputs": [
    {
     "name": "stdout",
     "output_type": "stream",
     "text": [
      "Epoch 1/10\n",
      "10/10 [==============================] - 0s 709us/step - loss: 0.3904 - accuracy: 0.0000e+00\n",
      "Epoch 2/10\n",
      "10/10 [==============================] - 0s 974us/step - loss: 0.2269 - accuracy: 0.0000e+00\n",
      "Epoch 3/10\n",
      "10/10 [==============================] - 0s 2ms/step - loss: 0.1979 - accuracy: 0.0000e+00\n",
      "Epoch 4/10\n",
      "10/10 [==============================] - 0s 800us/step - loss: 0.1306 - accuracy: 0.0000e+00\n",
      "Epoch 5/10\n",
      "10/10 [==============================] - 0s 900us/step - loss: 0.1444 - accuracy: 0.0000e+00\n",
      "Epoch 6/10\n",
      "10/10 [==============================] - 0s 800us/step - loss: 0.1288 - accuracy: 0.0000e+00\n",
      "Epoch 7/10\n",
      "10/10 [==============================] - 0s 800us/step - loss: 0.1260 - accuracy: 0.0000e+00\n",
      "Epoch 8/10\n",
      "10/10 [==============================] - 0s 800us/step - loss: 0.1199 - accuracy: 0.0000e+00\n",
      "Epoch 9/10\n",
      "10/10 [==============================] - 0s 800us/step - loss: 0.1115 - accuracy: 0.0000e+00\n",
      "Epoch 10/10\n",
      "10/10 [==============================] - 0s 800us/step - loss: 0.1223 - accuracy: 0.0000e+00\n",
      "Model: \"keras_functional_api\"\n",
      "_________________________________________________________________\n",
      "Layer (type)                 Output Shape              Param #   \n",
      "=================================================================\n",
      "input_18 (InputLayer)        [(None, 1)]               0         \n",
      "_________________________________________________________________\n",
      "dense_126 (Dense)            (None, 32)                64        \n",
      "_________________________________________________________________\n",
      "dense_127 (Dense)            (None, 64)                2112      \n",
      "_________________________________________________________________\n",
      "dropout_57 (Dropout)         (None, 64)                0         \n",
      "_________________________________________________________________\n",
      "dense_128 (Dense)            (None, 32)                2080      \n",
      "_________________________________________________________________\n",
      "dense_129 (Dense)            (None, 1)                 33        \n",
      "=================================================================\n",
      "Total params: 4,289\n",
      "Trainable params: 4,289\n",
      "Non-trainable params: 0\n",
      "_________________________________________________________________\n"
     ]
    }
   ],
   "source": [
    "# define the functional api model\n",
    "inputs = tf.keras.Input(shape=(1))\n",
    "x = tf.keras.layers.Dense(32)(inputs)\n",
    "x = tf.keras.layers.Dense(64)(x)\n",
    "x = tf.keras.layers.Dropout(0.1)(x)\n",
    "x = tf.keras.layers.Dense(32)(x)\n",
    "outputs = tf.keras.layers.Dense(1)(x)\n",
    "\n",
    "functional_model = tf.keras.Model(inputs, outputs, name=\"keras_functional_api\")\n",
    "functional_model.compile(optimizer='adam', loss=tf.keras.losses.MeanSquaredError(), metrics=['accuracy'])\n",
    "functional_model.fit(xdata, ydata_pred, epochs=10)\n",
    "functional_model.summary()\n"
   ]
  },
  {
   "cell_type": "code",
   "execution_count": 80,
   "id": "2805119a-be28-4843-b0c3-39ed88f57254",
   "metadata": {},
   "outputs": [
    {
     "name": "stdout",
     "output_type": "stream",
     "text": [
      "WARNING:tensorflow:5 out of the last 15 calls to <function Model.make_predict_function.<locals>.predict_function at 0x00000167EFEF3160> triggered tf.function retracing. Tracing is expensive and the excessive number of tracings could be due to (1) creating @tf.function repeatedly in a loop, (2) passing tensors with different shapes, (3) passing Python objects instead of tensors. For (1), please define your @tf.function outside of the loop. For (2), @tf.function has experimental_relax_shapes=True option that relaxes argument shapes that can avoid unnecessary retracing. For (3), please refer to https://www.tensorflow.org/tutorials/customization/performance#python_or_tensor_args and https://www.tensorflow.org/api_docs/python/tf/function for  more details.\n"
     ]
    }
   ],
   "source": [
    "y_calc = sequential_model.predict(t)"
   ]
  },
  {
   "cell_type": "code",
   "execution_count": 81,
   "id": "c6c655d3-10ac-45d3-b4de-20571c0dcb5e",
   "metadata": {},
   "outputs": [
    {
     "data": {
      "image/png": "[encoded data removed]",
      "text/plain": [
       "<Figure size 432x288 with 1 Axes>"
      ]
     },
     "metadata": {
      "needs_background": "light"
     },
     "output_type": "display_data"
    }
   ],
   "source": [
    "t = np.arange(-math.pi, math.pi, 0.1)\n",
    "y_calc_sequential = sequential_model.predict(t)\n",
    "y_calc_funcitonal = functional_model.predict(t)\n",
    "fig, ax = plt.subplots()\n",
    "ax.scatter(xs, ydata_pred, c='tab:blue')\n",
    "ax.scatter(t, y_calc_sequential, c='tab:orange')\n",
    "ax.scatter(t, y_calc_funcitonal, c='tab:green')\n",
    "\n",
    "\n",
    "ax.set(xlabel='x', ylabel='y')\n",
    "\n",
    "ax.grid()\n",
    "plt.show()\n"
   ]
  },
  {
   "cell_type": "code",
   "execution_count": null,
   "id": "15952b67-77f3-4dbf-b9ae-7aca48a30388",
   "metadata": {},
   "outputs": [],
   "source": []
  },
  {
   "cell_type": "code",
   "execution_count": null,
   "id": "44600744-8990-45e8-95a1-de1c45da5089",
   "metadata": {},
   "outputs": [],
   "source": []
  }
 ],
 "metadata": {
  "kernelspec": {
   "display_name": "Python 3 (ipykernel)",
   "language": "python",
   "name": "python3"
  },
  "language_info": {
   "codemirror_mode": {
    "name": "ipython",
    "version": 3
   },
   "file_extension": ".py",
   "mimetype": "text/x-python",
   "name": "python",
   "nbconvert_exporter": "python",
   "pygments_lexer": "ipython3",
   "version": "3.8.13"
  }
 },
 "nbformat": 4,
 "nbformat_minor": 5
}
